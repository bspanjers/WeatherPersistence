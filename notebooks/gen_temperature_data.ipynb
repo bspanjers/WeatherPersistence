{
 "cells": [
  {
   "cell_type": "markdown",
   "id": "45c4ab61-770e-47cd-a081-ee0f23ed5cd3",
   "metadata": {},
   "source": [
    "# Generate data for Figure 3\n",
    "We will show how to generate the weather station data observed in Figure 3. First import some packages."
   ]
  },
  {
   "cell_type": "code",
   "execution_count": null,
   "id": "65fcd91f-ad15-470b-b419-8ad4b0976e91",
   "metadata": {},
   "outputs": [],
   "source": [
    "import pandas as pd\n",
    "import numpy as np\n",
    "import os\n",
    "from plots_europe import read_climate_data, map_station_with_city\n",
    "from QAR import QAR_temperature"
   ]
  },
  {
   "cell_type": "markdown",
   "id": "d2e593ba-4702-48a9-b80e-a1031c1c5545",
   "metadata": {},
   "source": [
    "Then we define some variables. Leave the start and end days as is. Set tau for the quantile of interest (in the paper 0.05, 0.5, 0.95). For Figure 3(a)-(c) set iLeafs to 1. For 3(d)-(f) set iLeafs to 2. Then run the code."
   ]
  },
  {
   "cell_type": "code",
   "execution_count": 1,
   "id": "ed8a648e-574f-434f-843b-918ae59827f7",
   "metadata": {},
   "outputs": [
    {
     "name": "stdout",
     "output_type": "stream",
     "text": [
      "The history saving thread hit an unexpected error (OperationalError('attempt to write a readonly database')).History will not be written to the database.\n"
     ]
    }
   ],
   "source": [
    "\n",
    "start_date = 1950\n",
    "start_year_old = start_date\n",
    "end_year_old = start_date + 30\n",
    "start_year_new = 1990\n",
    "end_year_new = start_year_new + 30\n",
    "tau = .95\n",
    "\n",
    "iLeafs = 2\n",
    "if iLeafs > 1:\n",
    "    split_nao = True\n",
    "    include_nao = True\n",
    "else: \n",
    "    split_nao = False\n",
    "    include_nao = False\n",
    "    "
   ]
  },
  {
   "cell_type": "code",
   "execution_count": null,
   "id": "3f0499cf-8ef3-43eb-a538-8e7f18509bd6",
   "metadata": {},
   "outputs": [],
   "source": [
    "folder_path = '../data_persistence/ECA_blend_tg/'\n",
    "lendata = len(np.sort(os.listdir(folder_path))[:-4])\n",
    "lat_long = pd.DataFrame(np.zeros((lendata, 5)))\n",
    "lat_long[:] = np.nan\n",
    "for (i, file_name) in enumerate(np.sort(os.listdir(folder_path))[1:-4]):\n",
    "    station_name, starting_date = read_climate_data(folder_path + file_name)\n",
    "    city_name, latitude, longitude = map_station_with_city(station_name, folder_path + 'stations.txt')\n",
    "    if type(starting_date) != type(None):\n",
    "        if int(starting_date)<=start_date:\n",
    "                lat_long.iloc[i,:] = [file_name, station_name, latitude, longitude, city_name]\n",
    "\n",
    "df = lat_long.dropna()  \n",
    "df.columns =  ['file_name', 'STAID', 'latitude', 'longitude', 'city_name']\n",
    "df_results = pd.DataFrame(np.zeros((len(df), 8)), columns=['STANAME', 'STAID', 'latitude', 'longitude', \n",
    "                                                            'mean_diff_winter', 'mean_diff_spring', 'mean_diff_summer', 'mean_diff_autumn'])\n",
    "df_results[:] = np.nan\n",
    "datetime_index_2019 = pd.date_range(start='2019-01-01', end='2019-12-31', freq='D')\n",
    "\n",
    "for (i, file_name) in enumerate(df.file_name[:10]):\n",
    "    print(f'\\rCurrently calculating station {i+1} out of {len(df.file_name)}', end='')\n",
    "    test = QAR_temperature(sFile=file_name, fTau=tau, \n",
    "                       oldend = str(end_year_old) + '-', oldstart=str(start_year_old) + '-', \n",
    "                       newend = str(end_year_new) + '-', newstart= str(start_year_new) + '-',\n",
    "                       include_nao=include_nao, split_nao=split_nao, iLeafs=iLeafs)\n",
    "    if test.iLeafs >= 2:\n",
    "        season_list_pers = ['mean_diff_pers_winter_', 'mean_diff_pers_spring_', 'mean_diff_pers_summer_', 'mean_diff_pers_autumn_']\n",
    "    else: \n",
    "        season_list_pers = ['mean_diff_pers_winter', 'mean_diff_pers_spring', 'mean_diff_pers_summer', 'mean_diff_pers_autumn']\n",
    "    season_list_mean = ['mean_diff_winter_', 'mean_diff_spring_', 'mean_diff_summer_', 'mean_diff_autumn_']\n",
    "    try: \n",
    "        if test.iLeafs >= 2:    \n",
    "            test.plot_paths_with_nao(2019, plot=False)   \n",
    "        else: \n",
    "            test.results()\n",
    "        for leaf in range(test.iLeafs):\n",
    "            #differences in persistence for NAO+\n",
    "            diff_pers = test.mCurves_new - test.mCurves_old\n",
    "            diff_pers.index = datetime_index_2019\n",
    "            mean_diff_pers_winter = diff_pers.loc[diff_pers.index.month.isin([12, 1, 2])].mean()\n",
    "            mean_diff_pers_spring = diff_pers.loc[diff_pers.index.month.isin([3, 4, 5])].mean()\n",
    "            mean_diff_pers_summer = diff_pers.loc[diff_pers.index.month.isin([6, 7, 8])].mean()\n",
    "            mean_diff_pers_autumn = diff_pers.loc[diff_pers.index.month.isin([9, 10, 11])].mean()\n",
    "            if test.iLeafs >= 2:\n",
    "                df_results.loc[i, [season_list_pers[i] + str(leaf) for i in range(len(season_list_pers))]] = mean_diff_pers_winter.values[leaf], mean_diff_pers_spring.values[leaf], mean_diff_pers_summer.values[leaf], mean_diff_pers_autumn.values[leaf]\n",
    "            else: \n",
    "                df_results.loc[i, [season_list_pers[i] for i in range(len(season_list_pers))]] = mean_diff_pers_winter, mean_diff_pers_spring, mean_diff_pers_summer, mean_diff_pers_autumn\n",
    "\n",
    "        #mean differences in temperature per season\n",
    "        mean_diff_winter = test.new.loc[test.new.index.month.isin([12, 1, 2])].mean() - test.old.loc[test.old.index.month.isin([12,1,2])].mean()\n",
    "        mean_diff_spring = test.new.loc[test.new.index.month.isin([3, 4, 5])].mean() - test.old.loc[test.old.index.month.isin([3, 4, 5])].mean()\n",
    "        mean_diff_summer = test.new.loc[test.new.index.month.isin([6, 7, 8])].mean() - test.old.loc[test.old.index.month.isin([6, 7, 8])].mean()\n",
    "        mean_diff_autumn = test.new.loc[test.new.index.month.isin([9, 10, 11])].mean() - test.old.loc[test.old.index.month.isin([9, 10, 11])].mean()\n",
    "        df_results.iloc[i, :8] = df.city_name.iloc[i], df.STAID.iloc[i], df.latitude.iloc[i], df.longitude.iloc[i], mean_diff_winter.values[0], mean_diff_spring.values[0], mean_diff_summer.values[0], mean_diff_autumn.values[0]\n",
    "    except ValueError: \n",
    "        pass \n"
   ]
  }
 ],
 "metadata": {
  "kernelspec": {
   "display_name": "Python 3 (ipykernel)",
   "language": "python",
   "name": "python3"
  },
  "language_info": {
   "codemirror_mode": {
    "name": "ipython",
    "version": 3
   },
   "file_extension": ".py",
   "mimetype": "text/x-python",
   "name": "python",
   "nbconvert_exporter": "python",
   "pygments_lexer": "ipython3",
   "version": "3.8.2"
  }
 },
 "nbformat": 4,
 "nbformat_minor": 5
}
